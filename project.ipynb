{
 "cells": [
  {
   "cell_type": "markdown",
   "id": "c4e52ee5",
   "metadata": {},
   "source": [
    "## The dataset\n",
    "\n",
    "This is a real dataset and it was downloaded using web scraping techniques. The data contains registers from fotocasa which is one of the most popular websites of real estate in Spain. Please, do not do this (web scraping) unless it is for academic purposes.\n",
    "\n",
    "The dataset was downloaded a few years ago by Henry Navarro and In no case were economic returns obtained from it.\n",
    "\n",
    "It contains thousands of data from real homes published on the web www.fotocasa.com. Your goal is to extract as much information as possible with the knowledge you have so far about data science, for example what is the most expensive home in the entire dataset?\n",
    "\n",
    "Let's start with precisely that question... Good luck!\n"
   ]
  },
  {
   "cell_type": "markdown",
   "id": "dd97255d",
   "metadata": {},
   "source": [
    "#### Read the dataset assets/real_estate.csv and try to visualize the table (★☆☆)"
   ]
  },
  {
   "cell_type": "code",
   "execution_count": 1,
   "id": "4b93d9c8",
   "metadata": {},
   "outputs": [
    {
     "data": {
      "text/html": [
       "<div>\n",
       "<style scoped>\n",
       "    .dataframe tbody tr th:only-of-type {\n",
       "        vertical-align: middle;\n",
       "    }\n",
       "\n",
       "    .dataframe tbody tr th {\n",
       "        vertical-align: top;\n",
       "    }\n",
       "\n",
       "    .dataframe thead th {\n",
       "        text-align: right;\n",
       "    }\n",
       "</style>\n",
       "<table border=\"1\" class=\"dataframe\">\n",
       "  <thead>\n",
       "    <tr style=\"text-align: right;\">\n",
       "      <th></th>\n",
       "      <th>Unnamed: 0</th>\n",
       "      <th>id_realEstates</th>\n",
       "      <th>isNew</th>\n",
       "      <th>realEstate_name</th>\n",
       "      <th>phone_realEstate</th>\n",
       "      <th>url_inmueble</th>\n",
       "      <th>rooms</th>\n",
       "      <th>bathrooms</th>\n",
       "      <th>surface</th>\n",
       "      <th>price</th>\n",
       "      <th>...</th>\n",
       "      <th>level4Id</th>\n",
       "      <th>level5Id</th>\n",
       "      <th>level6Id</th>\n",
       "      <th>level7Id</th>\n",
       "      <th>level8Id</th>\n",
       "      <th>accuracy</th>\n",
       "      <th>latitude</th>\n",
       "      <th>longitude</th>\n",
       "      <th>zipCode</th>\n",
       "      <th>customZone</th>\n",
       "    </tr>\n",
       "  </thead>\n",
       "  <tbody>\n",
       "    <tr>\n",
       "      <th>7175</th>\n",
       "      <td>7176</td>\n",
       "      <td>153915746</td>\n",
       "      <td>False</td>\n",
       "      <td>nostrum luxury rent sale</td>\n",
       "      <td>911220661.0</td>\n",
       "      <td>https://www.fotocasa.es/es/comprar/vivienda/al...</td>\n",
       "      <td>2.0</td>\n",
       "      <td>1.0</td>\n",
       "      <td>65.0</td>\n",
       "      <td>142800</td>\n",
       "      <td>...</td>\n",
       "      <td>0</td>\n",
       "      <td>0</td>\n",
       "      <td>0</td>\n",
       "      <td>0</td>\n",
       "      <td>0</td>\n",
       "      <td>0</td>\n",
       "      <td>40,33329</td>\n",
       "      <td>-3,75607</td>\n",
       "      <td>NaN</td>\n",
       "      <td>NaN</td>\n",
       "    </tr>\n",
       "    <tr>\n",
       "      <th>4924</th>\n",
       "      <td>4925</td>\n",
       "      <td>148900746</td>\n",
       "      <td>False</td>\n",
       "      <td>inmobiliaria pulpon</td>\n",
       "      <td>912788039.0</td>\n",
       "      <td>https://www.fotocasa.es/es/comprar/vivienda/me...</td>\n",
       "      <td>4.0</td>\n",
       "      <td>3.0</td>\n",
       "      <td>211.0</td>\n",
       "      <td>243000</td>\n",
       "      <td>...</td>\n",
       "      <td>0</td>\n",
       "      <td>0</td>\n",
       "      <td>0</td>\n",
       "      <td>0</td>\n",
       "      <td>0</td>\n",
       "      <td>0</td>\n",
       "      <td>40,39742</td>\n",
       "      <td>-3,47776</td>\n",
       "      <td>NaN</td>\n",
       "      <td>NaN</td>\n",
       "    </tr>\n",
       "    <tr>\n",
       "      <th>9517</th>\n",
       "      <td>9518</td>\n",
       "      <td>143844434</td>\n",
       "      <td>False</td>\n",
       "      <td>engel volkers madrid</td>\n",
       "      <td>910758015.0</td>\n",
       "      <td>https://www.fotocasa.es/es/comprar/vivienda/ma...</td>\n",
       "      <td>2.0</td>\n",
       "      <td>2.0</td>\n",
       "      <td>151.0</td>\n",
       "      <td>1700000</td>\n",
       "      <td>...</td>\n",
       "      <td>0</td>\n",
       "      <td>0</td>\n",
       "      <td>0</td>\n",
       "      <td>0</td>\n",
       "      <td>0</td>\n",
       "      <td>0</td>\n",
       "      <td>40,42051</td>\n",
       "      <td>-3,69107</td>\n",
       "      <td>NaN</td>\n",
       "      <td>NaN</td>\n",
       "    </tr>\n",
       "    <tr>\n",
       "      <th>10463</th>\n",
       "      <td>10464</td>\n",
       "      <td>153956962</td>\n",
       "      <td>False</td>\n",
       "      <td>fresno inmobiliaria cobena</td>\n",
       "      <td>914894662.0</td>\n",
       "      <td>https://www.fotocasa.es/es/comprar/vivienda/ma...</td>\n",
       "      <td>4.0</td>\n",
       "      <td>2.0</td>\n",
       "      <td>314.0</td>\n",
       "      <td>350000</td>\n",
       "      <td>...</td>\n",
       "      <td>0</td>\n",
       "      <td>0</td>\n",
       "      <td>0</td>\n",
       "      <td>0</td>\n",
       "      <td>0</td>\n",
       "      <td>0</td>\n",
       "      <td>40,6928</td>\n",
       "      <td>-3,51379</td>\n",
       "      <td>NaN</td>\n",
       "      <td>NaN</td>\n",
       "    </tr>\n",
       "    <tr>\n",
       "      <th>6327</th>\n",
       "      <td>6328</td>\n",
       "      <td>153941187</td>\n",
       "      <td>False</td>\n",
       "      <td>inmobiliaria de la rosa</td>\n",
       "      <td>912668209.0</td>\n",
       "      <td>https://www.fotocasa.es/es/comprar/vivienda/pa...</td>\n",
       "      <td>2.0</td>\n",
       "      <td>1.0</td>\n",
       "      <td>66.0</td>\n",
       "      <td>130000</td>\n",
       "      <td>...</td>\n",
       "      <td>0</td>\n",
       "      <td>0</td>\n",
       "      <td>0</td>\n",
       "      <td>0</td>\n",
       "      <td>0</td>\n",
       "      <td>0</td>\n",
       "      <td>40,34797</td>\n",
       "      <td>-3,83064</td>\n",
       "      <td>NaN</td>\n",
       "      <td>NaN</td>\n",
       "    </tr>\n",
       "  </tbody>\n",
       "</table>\n",
       "<p>5 rows × 37 columns</p>\n",
       "</div>"
      ],
      "text/plain": [
       "       Unnamed: 0  id_realEstates  isNew             realEstate_name  \\\n",
       "7175         7176       153915746  False    nostrum luxury rent sale   \n",
       "4924         4925       148900746  False         inmobiliaria pulpon   \n",
       "9517         9518       143844434  False        engel volkers madrid   \n",
       "10463       10464       153956962  False  fresno inmobiliaria cobena   \n",
       "6327         6328       153941187  False     inmobiliaria de la rosa   \n",
       "\n",
       "       phone_realEstate                                       url_inmueble  \\\n",
       "7175        911220661.0  https://www.fotocasa.es/es/comprar/vivienda/al...   \n",
       "4924        912788039.0  https://www.fotocasa.es/es/comprar/vivienda/me...   \n",
       "9517        910758015.0  https://www.fotocasa.es/es/comprar/vivienda/ma...   \n",
       "10463       914894662.0  https://www.fotocasa.es/es/comprar/vivienda/ma...   \n",
       "6327        912668209.0  https://www.fotocasa.es/es/comprar/vivienda/pa...   \n",
       "\n",
       "       rooms  bathrooms  surface    price  ... level4Id level5Id level6Id  \\\n",
       "7175     2.0        1.0     65.0   142800  ...        0        0        0   \n",
       "4924     4.0        3.0    211.0   243000  ...        0        0        0   \n",
       "9517     2.0        2.0    151.0  1700000  ...        0        0        0   \n",
       "10463    4.0        2.0    314.0   350000  ...        0        0        0   \n",
       "6327     2.0        1.0     66.0   130000  ...        0        0        0   \n",
       "\n",
       "      level7Id level8Id accuracy  latitude longitude zipCode customZone  \n",
       "7175         0        0        0  40,33329  -3,75607     NaN        NaN  \n",
       "4924         0        0        0  40,39742  -3,47776     NaN        NaN  \n",
       "9517         0        0        0  40,42051  -3,69107     NaN        NaN  \n",
       "10463        0        0        0   40,6928  -3,51379     NaN        NaN  \n",
       "6327         0        0        0  40,34797  -3,83064     NaN        NaN  \n",
       "\n",
       "[5 rows x 37 columns]"
      ]
     },
     "execution_count": 1,
     "metadata": {},
     "output_type": "execute_result"
    }
   ],
   "source": [
    "import pandas as pd\n",
    "\n",
    "df=pd.read_csv('assets/real_estate.csv',sep=';')\n",
    "#df.info()\n",
    "#df.head()\n",
    "#df.tail()\n",
    "df.sample(5)"
   ]
  },
  {
   "cell_type": "markdown",
   "id": "40631cd6",
   "metadata": {},
   "source": [
    "#### What is the most expensive home in the dataset? (★☆☆)"
   ]
  },
  {
   "cell_type": "code",
   "execution_count": 12,
   "id": "8a758bcf",
   "metadata": {},
   "outputs": [
    {
     "name": "stdout",
     "output_type": "stream",
     "text": [
      "Most expensive Home : 8500000 index : 13110\n"
     ]
    }
   ],
   "source": [
    "max_expensive_home = df.price.max()\n",
    "max_index = df.price.idxmax()\n",
    "print('Most expensive Home : '+str(max_expensive_home)+' index : '+str(max_index))"
   ]
  },
  {
   "cell_type": "markdown",
   "id": "0a708990",
   "metadata": {},
   "source": [
    "#### What is cheapest home in the dataset? (★☆☆)"
   ]
  },
  {
   "cell_type": "code",
   "execution_count": 13,
   "id": "477e01f4",
   "metadata": {},
   "outputs": [
    {
     "name": "stdout",
     "output_type": "stream",
     "text": [
      "Cheapest Home : 0 index : 366\n"
     ]
    }
   ],
   "source": [
    "cheapest_home = df.price.min()\n",
    "min_index = df.price.idxmin()\n",
    "print('Cheapest Home : '+str(cheapest_home)+' index : '+str(min_index))"
   ]
  },
  {
   "cell_type": "markdown",
   "id": "0b16cd77",
   "metadata": {},
   "source": [
    "#### What is the biggest and the smallest home in the dataset? (★☆☆)"
   ]
  },
  {
   "cell_type": "code",
   "execution_count": 14,
   "id": "4d9b5975",
   "metadata": {},
   "outputs": [
    {
     "name": "stdout",
     "output_type": "stream",
     "text": [
      "The biggest House has a 249000.0 of surface (index : 6794), and smaller has a 15.0 of surface  (index : 498)\n"
     ]
    }
   ],
   "source": [
    "biggest_home = df.surface.max()\n",
    "big_index = df.surface.idxmax()\n",
    "smaller_home = df.surface.min()\n",
    "small_index = df.surface.idxmin()\n",
    "print('The biggest House has a '+str(biggest_home)+' of surface (index : '+str(big_index)+'), and smaller has a '+str(smaller_home)+' of surface  (index : '+str(small_index)+')')"
   ]
  },
  {
   "cell_type": "markdown",
   "id": "782d4c77",
   "metadata": {},
   "source": [
    "#### How many populations (level5) the dataset contains? (★☆☆)"
   ]
  },
  {
   "cell_type": "code",
   "execution_count": 5,
   "id": "5dbe1a08",
   "metadata": {},
   "outputs": [
    {
     "name": "stdout",
     "output_type": "stream",
     "text": [
      "The population level5 is : 168\n"
     ]
    }
   ],
   "source": [
    "#population_level5 = df.level5.count()\n",
    "population_level5 = df.level5.unique().size\n",
    "print('The population level5 is : '+str(population_level5))"
   ]
  },
  {
   "cell_type": "markdown",
   "id": "48d48f01",
   "metadata": {},
   "source": [
    "#### Does the dataset contain NAs? (★☆☆)\n"
   ]
  },
  {
   "cell_type": "code",
   "execution_count": 6,
   "id": "3ed233e7",
   "metadata": {},
   "outputs": [
    {
     "name": "stdout",
     "output_type": "stream",
     "text": [
      "The dataset cointains : True NAs\n"
     ]
    }
   ],
   "source": [
    "#total_dataset_Nas = df.isnull().sum()\n",
    "total_dataset_Nas = df.isnull().values.any()\n",
    "print('The dataset cointains : '+str(total_dataset_Nas)+' NAs')"
   ]
  },
  {
   "cell_type": "markdown",
   "id": "4fa39382",
   "metadata": {},
   "source": [
    "#### Delete the NAs of the dataset, if applicable (★★☆)"
   ]
  },
  {
   "cell_type": "code",
   "execution_count": 7,
   "id": "c97757ec",
   "metadata": {},
   "outputs": [
    {
     "name": "stdout",
     "output_type": "stream",
     "text": [
      "Empty DataFrame\n",
      "Columns: [Unnamed: 0, id_realEstates, isNew, realEstate_name, phone_realEstate, url_inmueble, rooms, bathrooms, surface, price, date, description, address, country, level1, level2, level3, level4, level5, level6, level7, level8, upperLevel, countryId, level1Id, level2Id, level3Id, level4Id, level5Id, level6Id, level7Id, level8Id, accuracy, latitude, longitude, zipCode, customZone]\n",
      "Index: []\n",
      "\n",
      "[0 rows x 37 columns]\n"
     ]
    }
   ],
   "source": [
    "#df.dropna()\n",
    "if df.isnull().values.any():\n",
    "    stripped_df = df.dropna()\n",
    "    print(stripped_df)\n",
    "else:\n",
    "    print(df)"
   ]
  },
  {
   "cell_type": "markdown",
   "id": "0e5f76de",
   "metadata": {},
   "source": [
    "#### What is the mean of prices in the population (level5) of \"Arroyomolinos (Madrid)\"? (★★☆)"
   ]
  },
  {
   "cell_type": "code",
   "execution_count": 8,
   "id": "327f7adb",
   "metadata": {},
   "outputs": [
    {
     "name": "stdout",
     "output_type": "stream",
     "text": [
      "Mean of prices : 294541.59854014596\n"
     ]
    }
   ],
   "source": [
    "filter_level5 = df[df['level5'] == \"Arroyomolinos (Madrid)\"]\n",
    "print('Mean of prices : '+str(filter_level5['price'].mean()))"
   ]
  },
  {
   "cell_type": "markdown",
   "id": "89b548e3",
   "metadata": {},
   "source": [
    "#### Plot the histogram of prices for the population (level5) of \"Arroyomolinos (Madrid)\" and explain what you observe (★★☆)"
   ]
  },
  {
   "cell_type": "code",
   "execution_count": 9,
   "id": "2ba51bf7",
   "metadata": {},
   "outputs": [
    {
     "data": {
      "image/png": "[encoded data removed]",
      "text/plain": [
       "<Figure size 432x288 with 1 Axes>"
      ]
     },
     "metadata": {
      "needs_background": "light"
     },
     "output_type": "display_data"
    }
   ],
   "source": [
    "import pandas as pd\n",
    "import matplotlib.pyplot as plt\n",
    "filter_level5 = df[df['level5'] == \"Arroyomolinos (Madrid)\"]\n",
    "plt.hist(filter_level5['price'])\n",
    "plt.show()\n"
   ]
  },
  {
   "cell_type": "markdown",
   "id": "c86dc493",
   "metadata": {},
   "source": [
    "#### Now let's work with the \"south belt\" of madrid. Make a subsetting that contains the following populations (level5): \"Fuenlabrada\",\"Leganés\",\"Getafe\",\"Alcorcón\" (★★☆) "
   ]
  },
  {
   "cell_type": "code",
   "execution_count": 10,
   "id": "5280d0cb",
   "metadata": {},
   "outputs": [
    {
     "name": "stdout",
     "output_type": "stream",
     "text": [
      "       Unnamed: 0  id_realEstates  isNew  \\\n",
      "1               2       153867863  False   \n",
      "3               4       152776331  False   \n",
      "85             86       153152077  False   \n",
      "94             95       153995577  False   \n",
      "109           110       153586414  False   \n",
      "...           ...             ...    ...   \n",
      "15275       15276       153903887  False   \n",
      "15291       15292       151697757  False   \n",
      "15305       15306       153902389  False   \n",
      "15322       15323       153871864  False   \n",
      "15325       15326       153901467  False   \n",
      "\n",
      "                                 realEstate_name  phone_realEstate  \\\n",
      "1              tecnocasa fuenlabrada ferrocarril       916358736.0   \n",
      "3              tecnocasa fuenlabrada ferrocarril       916358736.0   \n",
      "85                       sinergical inmobiliaria               NaN   \n",
      "94                               viviendas365com       911226014.0   \n",
      "109              area uno asesores inmobiliarios       912664081.0   \n",
      "...                                          ...               ...   \n",
      "15275  aliseda servicios de gestion inmobiliaria       911368198.0   \n",
      "15291                                    unipiso       912788631.0   \n",
      "15305                             jadein ferrero       914871639.0   \n",
      "15322                          gestion comercial       911220662.0   \n",
      "15325                              montehogar 68       911790675.0   \n",
      "\n",
      "                                            url_inmueble  rooms  bathrooms  \\\n",
      "1      https://www.fotocasa.es/es/comprar/vivienda/ma...    3.0        1.0   \n",
      "3      https://www.fotocasa.es/es/comprar/vivienda/ma...    3.0        1.0   \n",
      "85     https://www.fotocasa.es/es/comprar/vivienda/le...    1.0        1.0   \n",
      "94     https://www.fotocasa.es/es/comprar/vivienda/le...    3.0        2.0   \n",
      "109    https://www.fotocasa.es/es/comprar/vivienda/ma...    3.0        3.0   \n",
      "...                                                  ...    ...        ...   \n",
      "15275  https://www.fotocasa.es/es/comprar/vivienda/al...    3.0        1.0   \n",
      "15291  https://www.fotocasa.es/es/comprar/vivienda/al...    3.0        2.0   \n",
      "15305  https://www.fotocasa.es/es/comprar/vivienda/ma...    3.0        2.0   \n",
      "15322  https://www.fotocasa.es/es/comprar/vivienda/ma...    3.0        1.0   \n",
      "15325  https://www.fotocasa.es/es/comprar/vivienda/ma...    2.0        2.0   \n",
      "\n",
      "       surface   price  ... level4Id level5Id level6Id level7Id level8Id  \\\n",
      "1          NaN   89000  ...        0        0        0        0        0   \n",
      "3         86.0   89000  ...        0        0        0        0        0   \n",
      "85        50.0  107000  ...        0        0        0        0        0   \n",
      "94       120.0  320000  ...        0        0        0        0        0   \n",
      "109      142.0  425000  ...        0        0        0        0        0   \n",
      "...        ...     ...  ...      ...      ...      ...      ...      ...   \n",
      "15275     78.0  138000  ...        0        0        0        0        0   \n",
      "15291    110.0  279000  ...        0        0        0        0        0   \n",
      "15305     85.0  170000  ...        0        0        0        0        0   \n",
      "15322     91.0  112000  ...        0        0        0        0        0   \n",
      "15325     99.0  215000  ...        0        0        0        0        0   \n",
      "\n",
      "      accuracy          latitude          longitude zipCode customZone  \n",
      "1            1          40,28674           -3,79351     NaN        NaN  \n",
      "3            0  40,2853785786438  -3,79508142135624     NaN        NaN  \n",
      "85           1          40,35059           -3,82693     NaN        NaN  \n",
      "94           0          40,31933           -3,77574     NaN        NaN  \n",
      "109          0        40,3313411         -3,8313868     NaN        NaN  \n",
      "...        ...               ...                ...     ...        ...  \n",
      "15275        1          40,31381           -3,83733     NaN        NaN  \n",
      "15291        0        40,3259051           -3,76318     NaN        NaN  \n",
      "15305        0        40,2882193         -3,8098617     NaN        NaN  \n",
      "15322        0          40,28282           -3,78892     NaN        NaN  \n",
      "15325        1          40,28062           -3,79869     NaN        NaN  \n",
      "\n",
      "[907 rows x 37 columns]\n"
     ]
    }
   ],
   "source": [
    "filter_level5 = df[df['level5'].isin((\"Fuenlabrada\", \"Leganés\", \"Getafe\", \"Alcorcón\"))]\n",
    "print(filter_level5)"
   ]
  },
  {
   "cell_type": "markdown",
   "id": "090a6a3e",
   "metadata": {},
   "source": [
    "#### Make a bar plot of the median of prices (★★★) "
   ]
  },
  {
   "cell_type": "code",
   "execution_count": 11,
   "id": "68aec11c",
   "metadata": {},
   "outputs": [
    {
     "data": {
      "image/png": "[encoded data removed]",
      "text/plain": [
       "<Figure size 432x288 with 1 Axes>"
      ]
     },
     "metadata": {
      "needs_background": "light"
     },
     "output_type": "display_data"
    }
   ],
   "source": [
    "\n",
    "filter_level5 = df[df['level5'].isin(('Fuenlabrada', 'Leganés', 'Getafe', 'Alcorcón'))]\n",
    "filtered_data_frame = filter_level5[['level5', 'price']]\n",
    "grouped_filtered_data_frame = filtered_data_frame.groupby('level5').median()\n",
    "keys = grouped_filtered_data_frame.index.values.tolist()\n",
    "values = grouped_filtered_data_frame['price'].tolist()\n",
    "plt.bar(keys, values)\n",
    "plt.show()"
   ]
  },
  {
   "cell_type": "markdown",
   "id": "18f67373",
   "metadata": {},
   "source": [
    "#### Calculate the sample mean and variance of the variables: price, rooms, surface area and bathrooms (★★★) "
   ]
  },
  {
   "cell_type": "code",
   "execution_count": 16,
   "id": "8d068061",
   "metadata": {},
   "outputs": [
    {
     "name": "stdout",
     "output_type": "stream",
     "text": [
      "Media price : 477303.6\n",
      "Varianza price : 349628868677.5\n",
      "Media rooms : 3.2\n",
      "Varianza rooms : 1.9\n",
      "Media surface : 196.9\n",
      "Varianza surface : 4764433.9\n",
      "Media bathrooms : 2.2\n",
      "Varianza bathrooms : 1.7\n"
     ]
    }
   ],
   "source": [
    "# Calculo media y varianza de las variables de interes para la zona \"South Belt\" de Madrid\n",
    "\n",
    "var_interes = [\"price\",\"rooms\",\"surface\",\"bathrooms\"]\n",
    "\n",
    "for i in var_interes:\n",
    "    media = df[i].mean()\n",
    "    print(\"Media\", i, \":\", round(media,1))\n",
    "    varianza = df[i].var()\n",
    "    print(\"Varianza\", i, \":\", round(varianza,1))"
   ]
  },
  {
   "cell_type": "markdown",
   "id": "95cfde61",
   "metadata": {},
   "source": [
    "#### What is the most expensive home of each population? (★★☆) "
   ]
  },
  {
   "cell_type": "code",
   "execution_count": 17,
   "id": "1c29f78c",
   "metadata": {},
   "outputs": [
    {
     "name": "stdout",
     "output_type": "stream",
     "text": [
      "Precios de las casas más caras por población:\n"
     ]
    },
    {
     "data": {
      "text/plain": [
       "level5\n",
       " Madrid Capital          8000000\n",
       "Ajalvir                   345000\n",
       "Alcalá de Henares         850000\n",
       "Alcobendas               8000000\n",
       "Alcorcón                  950000\n",
       "                          ...   \n",
       "Villar del Olmo           280000\n",
       "Villarejo de Salvanés     226000\n",
       "Villaviciosa de Odón     1900000\n",
       "Villavieja del Lozoya     260000\n",
       "Zarzalejo                 199000\n",
       "Name: price, Length: 168, dtype: int64"
      ]
     },
     "execution_count": 17,
     "metadata": {},
     "output_type": "execute_result"
    }
   ],
   "source": [
    "print(\"Precios de las casas más caras por población:\")\n",
    "df.groupby(\"level5\")[\"price\"].max()"
   ]
  },
  {
   "cell_type": "markdown",
   "id": "ea67579b",
   "metadata": {},
   "source": [
    "#### Normalize the variable of prices for each population and plot the 4 histograms in the same plot (★★★) "
   ]
  },
  {
   "cell_type": "code",
   "execution_count": 18,
   "id": "385ad99c",
   "metadata": {},
   "outputs": [
    {
     "data": {
      "text/html": [
       "<div>\n",
       "<style scoped>\n",
       "    .dataframe tbody tr th:only-of-type {\n",
       "        vertical-align: middle;\n",
       "    }\n",
       "\n",
       "    .dataframe tbody tr th {\n",
       "        vertical-align: top;\n",
       "    }\n",
       "\n",
       "    .dataframe thead th {\n",
       "        text-align: right;\n",
       "    }\n",
       "</style>\n",
       "<table border=\"1\" class=\"dataframe\">\n",
       "  <thead>\n",
       "    <tr style=\"text-align: right;\">\n",
       "      <th></th>\n",
       "      <th>Unnamed: 0</th>\n",
       "      <th>id_realEstates</th>\n",
       "      <th>isNew</th>\n",
       "      <th>realEstate_name</th>\n",
       "      <th>phone_realEstate</th>\n",
       "      <th>url_inmueble</th>\n",
       "      <th>rooms</th>\n",
       "      <th>bathrooms</th>\n",
       "      <th>surface</th>\n",
       "      <th>price</th>\n",
       "      <th>...</th>\n",
       "      <th>level5Id</th>\n",
       "      <th>level6Id</th>\n",
       "      <th>level7Id</th>\n",
       "      <th>level8Id</th>\n",
       "      <th>accuracy</th>\n",
       "      <th>latitude</th>\n",
       "      <th>longitude</th>\n",
       "      <th>zipCode</th>\n",
       "      <th>customZone</th>\n",
       "      <th>price_st</th>\n",
       "    </tr>\n",
       "  </thead>\n",
       "  <tbody>\n",
       "    <tr>\n",
       "      <th>0</th>\n",
       "      <td>1</td>\n",
       "      <td>153771986</td>\n",
       "      <td>False</td>\n",
       "      <td>ferrari 57 inmobiliaria</td>\n",
       "      <td>912177526.0</td>\n",
       "      <td>https://www.fotocasa.es/es/comprar/vivienda/ma...</td>\n",
       "      <td>3.0</td>\n",
       "      <td>2.0</td>\n",
       "      <td>103.0</td>\n",
       "      <td>195000</td>\n",
       "      <td>...</td>\n",
       "      <td>0</td>\n",
       "      <td>0</td>\n",
       "      <td>0</td>\n",
       "      <td>0</td>\n",
       "      <td>0</td>\n",
       "      <td>40,2948276786438</td>\n",
       "      <td>-3,44402412135624</td>\n",
       "      <td>NaN</td>\n",
       "      <td>NaN</td>\n",
       "      <td>-0.155723</td>\n",
       "    </tr>\n",
       "    <tr>\n",
       "      <th>1</th>\n",
       "      <td>2</td>\n",
       "      <td>153867863</td>\n",
       "      <td>False</td>\n",
       "      <td>tecnocasa fuenlabrada ferrocarril</td>\n",
       "      <td>916358736.0</td>\n",
       "      <td>https://www.fotocasa.es/es/comprar/vivienda/ma...</td>\n",
       "      <td>3.0</td>\n",
       "      <td>1.0</td>\n",
       "      <td>NaN</td>\n",
       "      <td>89000</td>\n",
       "      <td>...</td>\n",
       "      <td>0</td>\n",
       "      <td>0</td>\n",
       "      <td>0</td>\n",
       "      <td>0</td>\n",
       "      <td>1</td>\n",
       "      <td>40,28674</td>\n",
       "      <td>-3,79351</td>\n",
       "      <td>NaN</td>\n",
       "      <td>NaN</td>\n",
       "      <td>-1.289130</td>\n",
       "    </tr>\n",
       "    <tr>\n",
       "      <th>2</th>\n",
       "      <td>3</td>\n",
       "      <td>153430440</td>\n",
       "      <td>False</td>\n",
       "      <td>look find boadilla</td>\n",
       "      <td>916350408.0</td>\n",
       "      <td>https://www.fotocasa.es/es/comprar/vivienda/ma...</td>\n",
       "      <td>2.0</td>\n",
       "      <td>2.0</td>\n",
       "      <td>99.0</td>\n",
       "      <td>390000</td>\n",
       "      <td>...</td>\n",
       "      <td>0</td>\n",
       "      <td>0</td>\n",
       "      <td>0</td>\n",
       "      <td>0</td>\n",
       "      <td>0</td>\n",
       "      <td>40,4115646786438</td>\n",
       "      <td>-3,90662252135624</td>\n",
       "      <td>NaN</td>\n",
       "      <td>NaN</td>\n",
       "      <td>-0.859160</td>\n",
       "    </tr>\n",
       "    <tr>\n",
       "      <th>3</th>\n",
       "      <td>4</td>\n",
       "      <td>152776331</td>\n",
       "      <td>False</td>\n",
       "      <td>tecnocasa fuenlabrada ferrocarril</td>\n",
       "      <td>916358736.0</td>\n",
       "      <td>https://www.fotocasa.es/es/comprar/vivienda/ma...</td>\n",
       "      <td>3.0</td>\n",
       "      <td>1.0</td>\n",
       "      <td>86.0</td>\n",
       "      <td>89000</td>\n",
       "      <td>...</td>\n",
       "      <td>0</td>\n",
       "      <td>0</td>\n",
       "      <td>0</td>\n",
       "      <td>0</td>\n",
       "      <td>0</td>\n",
       "      <td>40,2853785786438</td>\n",
       "      <td>-3,79508142135624</td>\n",
       "      <td>NaN</td>\n",
       "      <td>NaN</td>\n",
       "      <td>-1.289130</td>\n",
       "    </tr>\n",
       "    <tr>\n",
       "      <th>4</th>\n",
       "      <td>5</td>\n",
       "      <td>153180188</td>\n",
       "      <td>False</td>\n",
       "      <td>ferrari 57 inmobiliaria</td>\n",
       "      <td>912177526.0</td>\n",
       "      <td>https://www.fotocasa.es/es/comprar/vivienda/ma...</td>\n",
       "      <td>2.0</td>\n",
       "      <td>2.0</td>\n",
       "      <td>106.0</td>\n",
       "      <td>172000</td>\n",
       "      <td>...</td>\n",
       "      <td>0</td>\n",
       "      <td>0</td>\n",
       "      <td>0</td>\n",
       "      <td>0</td>\n",
       "      <td>0</td>\n",
       "      <td>40,2998774864376</td>\n",
       "      <td>-3,45226301356237</td>\n",
       "      <td>NaN</td>\n",
       "      <td>NaN</td>\n",
       "      <td>-0.419373</td>\n",
       "    </tr>\n",
       "  </tbody>\n",
       "</table>\n",
       "<p>5 rows × 38 columns</p>\n",
       "</div>"
      ],
      "text/plain": [
       "   Unnamed: 0  id_realEstates  isNew                    realEstate_name  \\\n",
       "0           1       153771986  False            ferrari 57 inmobiliaria   \n",
       "1           2       153867863  False  tecnocasa fuenlabrada ferrocarril   \n",
       "2           3       153430440  False                 look find boadilla   \n",
       "3           4       152776331  False  tecnocasa fuenlabrada ferrocarril   \n",
       "4           5       153180188  False            ferrari 57 inmobiliaria   \n",
       "\n",
       "   phone_realEstate                                       url_inmueble  rooms  \\\n",
       "0       912177526.0  https://www.fotocasa.es/es/comprar/vivienda/ma...    3.0   \n",
       "1       916358736.0  https://www.fotocasa.es/es/comprar/vivienda/ma...    3.0   \n",
       "2       916350408.0  https://www.fotocasa.es/es/comprar/vivienda/ma...    2.0   \n",
       "3       916358736.0  https://www.fotocasa.es/es/comprar/vivienda/ma...    3.0   \n",
       "4       912177526.0  https://www.fotocasa.es/es/comprar/vivienda/ma...    2.0   \n",
       "\n",
       "   bathrooms  surface   price  ... level5Id level6Id level7Id level8Id  \\\n",
       "0        2.0    103.0  195000  ...        0        0        0        0   \n",
       "1        1.0      NaN   89000  ...        0        0        0        0   \n",
       "2        2.0     99.0  390000  ...        0        0        0        0   \n",
       "3        1.0     86.0   89000  ...        0        0        0        0   \n",
       "4        2.0    106.0  172000  ...        0        0        0        0   \n",
       "\n",
       "  accuracy          latitude          longitude zipCode customZone  price_st  \n",
       "0        0  40,2948276786438  -3,44402412135624     NaN        NaN -0.155723  \n",
       "1        1          40,28674           -3,79351     NaN        NaN -1.289130  \n",
       "2        0  40,4115646786438  -3,90662252135624     NaN        NaN -0.859160  \n",
       "3        0  40,2853785786438  -3,79508142135624     NaN        NaN -1.289130  \n",
       "4        0  40,2998774864376  -3,45226301356237     NaN        NaN -0.419373  \n",
       "\n",
       "[5 rows x 38 columns]"
      ]
     },
     "execution_count": 18,
     "metadata": {},
     "output_type": "execute_result"
    }
   ],
   "source": [
    "# Normalizo la variable precio y creo una nueva variable (price_st)\n",
    "# La normalizo restando la media y dividiendo por el desvío estándar, de modo que la variable normalizada \n",
    "# tenga media 0 y desvío estándar igual a 1\n",
    "\n",
    "import numpy as np\n",
    "df[\"price_st\"] = df.groupby([\"level5\"])[\"price\"].transform(lambda x: (x-np.mean(x))/(np.std(x))) \n",
    "\n",
    "df.head()"
   ]
  },
  {
   "cell_type": "code",
   "execution_count": 20,
   "id": "6debdfcf",
   "metadata": {},
   "outputs": [
    {
     "data": {
      "text/plain": [
       "level5\n",
       " Madrid Capital         -4.369529e-17\n",
       "Ajalvir                  1.697988e-16\n",
       "Alcalá de Henares       -3.658449e-17\n",
       "Alcobendas               8.144493e-18\n",
       "Alcorcón                -1.205176e-16\n",
       "                             ...     \n",
       "Villar del Olmo          1.903239e-16\n",
       "Villarejo de Salvanés    3.505967e-17\n",
       "Villaviciosa de Odón    -1.096847e-16\n",
       "Villavieja del Lozoya   -1.850372e-17\n",
       "Zarzalejo                0.000000e+00\n",
       "Name: price_st, Length: 168, dtype: float64"
      ]
     },
     "execution_count": 20,
     "metadata": {},
     "output_type": "execute_result"
    }
   ],
   "source": [
    "# chequeo que la media de la variable precio estandarizada sea 0\n",
    "df.groupby(\"level5\")[\"price_st\"].mean()"
   ]
  },
  {
   "cell_type": "code",
   "execution_count": 21,
   "id": "29e217df",
   "metadata": {},
   "outputs": [
    {
     "data": {
      "text/plain": [
       "level5\n",
       " Madrid Capital          1.000075\n",
       "Ajalvir                  1.030776\n",
       "Alcalá de Henares        1.000954\n",
       "Alcobendas               1.001936\n",
       "Alcorcón                 1.002642\n",
       "                           ...   \n",
       "Villar del Olmo          1.080123\n",
       "Villarejo de Salvanés    1.027402\n",
       "Villaviciosa de Odón     1.003026\n",
       "Villavieja del Lozoya    1.095445\n",
       "Zarzalejo                1.414214\n",
       "Name: price_st, Length: 168, dtype: float64"
      ]
     },
     "execution_count": 21,
     "metadata": {},
     "output_type": "execute_result"
    }
   ],
   "source": [
    "df.groupby(\"level5\")[\"price_st\"].std()\n",
    "# chequeo que el desvío de la variable precio estandarizada sea 1"
   ]
  },
  {
   "cell_type": "code",
   "execution_count": 23,
   "id": "63a5c298",
   "metadata": {},
   "outputs": [
    {
     "data": {
      "image/png": "[encoded data removed]",
      "text/plain": [
       "<Figure size 432x288 with 4 Axes>"
      ]
     },
     "metadata": {
      "needs_background": "light"
     },
     "output_type": "display_data"
    }
   ],
   "source": [
    "# histograma de las 4 zonas, excluyo las que tienen precio menor a 0\n",
    "\n",
    "fig, ax = plt.subplots(2, 2, sharey = True)\n",
    "ax[0, 0].hist(df.loc[(df[\"level5\"]==\"Getafe\") & (df[\"price\"]>0),\"price_st\"])\n",
    "ax[0, 1].hist(df.loc[(df[\"level5\"]==\"Alcorcón\") & (df[\"price\"]>0),\"price_st\"])\n",
    "ax[1, 0].hist(df.loc[(df[\"level5\"]==\"Fuenlabrada\") & (df[\"price\"]>0),\"price_st\"])\n",
    "ax[1, 1].hist(df.loc[(df[\"level5\"]==\"Leganés\") & (df[\"price\"]>0),\"price_st\"])\n",
    "ax[0, 0].set_title('Getafe')\n",
    "ax[0, 1].set_title('Alcorcón')\n",
    "ax[1, 0].set_title('Fuenlabrada')\n",
    "ax[1, 1].set_title('Leganés')\n",
    "plt.tight_layout() # evita que se superpongan las etiquetas de los ejes con los títulos\n",
    "plt.show()"
   ]
  },
  {
   "cell_type": "markdown",
   "id": "2ec1bd5c",
   "metadata": {},
   "source": [
    "#### Make a plot of the coordinates (lat and long) of the south belt of Madrid by color of each population (★★★★) \n",
    "This is a extremely hard exercise and we highly recommend to do it at the end of everything"
   ]
  },
  {
   "cell_type": "code",
   "execution_count": 24,
   "id": "312aac99",
   "metadata": {},
   "outputs": [
    {
     "data": {
      "application/vnd.jupyter.widget-view+json": {
       "model_id": "f3a22c1f2b3049649385421fbdc34e36",
       "version_major": 2,
       "version_minor": 0
      },
      "text/plain": [
       "Map(center=[60, -2.2], controls=(ZoomControl(options=['position', 'zoom_in_text', 'zoom_in_title', 'zoom_out_t…"
      ]
     },
     "metadata": {},
     "output_type": "display_data"
    }
   ],
   "source": [
    "# Run in console the following command before run the rest of code:\n",
    "# jupyter nbextension enable --py --sys-prefix ipyleaflet\n",
    "\n",
    "from ipyleaflet import Map, basemaps\n",
    "\n",
    "# Map centred on (60 degrees latitude et -2.2 degrees longitude)\n",
    "# Latitude, longitude\n",
    "map = Map(center = (60, -2.2), zoom = 2, min_zoom = 1, max_zoom = 20, \n",
    "    basemap=basemaps.Stamen.Terrain)\n",
    "map"
   ]
  },
  {
   "cell_type": "code",
   "execution_count": 25,
   "id": "6d2d88cb",
   "metadata": {},
   "outputs": [
    {
     "data": {
      "text/html": [
       "<div>\n",
       "<style scoped>\n",
       "    .dataframe tbody tr th:only-of-type {\n",
       "        vertical-align: middle;\n",
       "    }\n",
       "\n",
       "    .dataframe tbody tr th {\n",
       "        vertical-align: top;\n",
       "    }\n",
       "\n",
       "    .dataframe thead th {\n",
       "        text-align: right;\n",
       "    }\n",
       "</style>\n",
       "<table border=\"1\" class=\"dataframe\">\n",
       "  <thead>\n",
       "    <tr style=\"text-align: right;\">\n",
       "      <th></th>\n",
       "      <th>level5</th>\n",
       "      <th>latitude</th>\n",
       "      <th>longitude</th>\n",
       "    </tr>\n",
       "  </thead>\n",
       "  <tbody>\n",
       "    <tr>\n",
       "      <th>1009</th>\n",
       "      <td>El Atazar</td>\n",
       "      <td>40.93443</td>\n",
       "      <td>-3.47134</td>\n",
       "    </tr>\n",
       "    <tr>\n",
       "      <th>2215</th>\n",
       "      <td>Villamanrique de Tajo</td>\n",
       "      <td>40.0688601989746</td>\n",
       "      <td>-3.24095010757446</td>\n",
       "    </tr>\n",
       "    <tr>\n",
       "      <th>4881</th>\n",
       "      <td>Madarcos</td>\n",
       "      <td>41.045904</td>\n",
       "      <td>-3.58190200000001</td>\n",
       "    </tr>\n",
       "    <tr>\n",
       "      <th>4888</th>\n",
       "      <td>Puentes Viejas</td>\n",
       "      <td>40.98785</td>\n",
       "      <td>-3.53684</td>\n",
       "    </tr>\n",
       "    <tr>\n",
       "      <th>5381</th>\n",
       "      <td>Braojos</td>\n",
       "      <td>41.03811</td>\n",
       "      <td>-3.64268</td>\n",
       "    </tr>\n",
       "  </tbody>\n",
       "</table>\n",
       "</div>"
      ],
      "text/plain": [
       "                     level5          latitude          longitude\n",
       "1009              El Atazar          40.93443           -3.47134\n",
       "2215  Villamanrique de Tajo  40.0688601989746  -3.24095010757446\n",
       "4881               Madarcos         41.045904  -3.58190200000001\n",
       "4888         Puentes Viejas          40.98785           -3.53684\n",
       "5381                Braojos          41.03811           -3.64268"
      ]
     },
     "execution_count": 25,
     "metadata": {},
     "output_type": "execute_result"
    }
   ],
   "source": [
    "# Las variables latitud y longitud tienen coma en vez de punto, cambio esto para poder graficar en mapa\n",
    "\n",
    "df[\"latitude\"]=df[\"latitude\"].apply(lambda x: x.replace(',','.'))\n",
    "df[\"longitude\"]=df[\"longitude\"].apply(lambda x: x.replace(',','.'))\n",
    "\n",
    "# Me quedo solo con las columnas que me interesan\n",
    "\n",
    "data_sb_selecc = df[[\"level5\", 'latitude', 'longitude']]\n",
    "\n",
    "# me quedo solo con una línea de cada población para graficar los 4 puntos\n",
    "\n",
    "data_sb_selecc = data_sb_selecc.drop_duplicates(subset='level5', keep=\"last\")\n",
    "\n",
    "data_sb_selecc.head()"
   ]
  },
  {
   "cell_type": "code",
   "execution_count": 26,
   "id": "f7931ec0",
   "metadata": {},
   "outputs": [
    {
     "ename": "NameError",
     "evalue": "name 'Marker' is not defined",
     "output_type": "error",
     "traceback": [
      "\u001b[0;31m---------------------------------------------------------------------------\u001b[0m",
      "\u001b[0;31mNameError\u001b[0m                                 Traceback (most recent call last)",
      "\u001b[1;32m/home/trillo/Documentos/Andrea/MachineLearning/realestate-datacleanup-exercise/realestate-datacleanup-exercise/project.ipynb Celda 36\u001b[0m in \u001b[0;36m<cell line: 4>\u001b[0;34m()\u001b[0m\n\u001b[1;32m      <a href='vscode-notebook-cell:/home/trillo/Documentos/Andrea/MachineLearning/realestate-datacleanup-exercise/realestate-datacleanup-exercise/project.ipynb#X43sZmlsZQ%3D%3D?line=0'>1</a>\u001b[0m \u001b[39m## HERE: plot the coordinates of the estates\u001b[39;00m\n\u001b[1;32m      <a href='vscode-notebook-cell:/home/trillo/Documentos/Andrea/MachineLearning/realestate-datacleanup-exercise/realestate-datacleanup-exercise/project.ipynb#X43sZmlsZQ%3D%3D?line=1'>2</a>\u001b[0m \n\u001b[1;32m      <a href='vscode-notebook-cell:/home/trillo/Documentos/Andrea/MachineLearning/realestate-datacleanup-exercise/realestate-datacleanup-exercise/project.ipynb#X43sZmlsZQ%3D%3D?line=2'>3</a>\u001b[0m \u001b[39m## PUT HERE YOUR CODE:\u001b[39;00m\n\u001b[1;32m      <a href='vscode-notebook-cell:/home/trillo/Documentos/Andrea/MachineLearning/realestate-datacleanup-exercise/realestate-datacleanup-exercise/project.ipynb#X43sZmlsZQ%3D%3D?line=3'>4</a>\u001b[0m \u001b[39mfor\u001b[39;00m name, lon, lat \u001b[39min\u001b[39;00m df[[\u001b[39m\"\u001b[39m\u001b[39mlevel5\u001b[39m\u001b[39m\"\u001b[39m, \u001b[39m\"\u001b[39m\u001b[39mlongitude\u001b[39m\u001b[39m\"\u001b[39m, \u001b[39m\"\u001b[39m\u001b[39mlatitude\u001b[39m\u001b[39m\"\u001b[39m]]\u001b[39m.\u001b[39mvalues:\n\u001b[0;32m----> <a href='vscode-notebook-cell:/home/trillo/Documentos/Andrea/MachineLearning/realestate-datacleanup-exercise/realestate-datacleanup-exercise/project.ipynb#X43sZmlsZQ%3D%3D?line=4'>5</a>\u001b[0m     marker \u001b[39m=\u001b[39m Marker(location\u001b[39m=\u001b[39m(lat, lon), draggable\u001b[39m=\u001b[39m\u001b[39mFalse\u001b[39;00m, title\u001b[39m=\u001b[39mname, alt\u001b[39m=\u001b[39mname)\n\u001b[1;32m      <a href='vscode-notebook-cell:/home/trillo/Documentos/Andrea/MachineLearning/realestate-datacleanup-exercise/realestate-datacleanup-exercise/project.ipynb#X43sZmlsZQ%3D%3D?line=5'>6</a>\u001b[0m     \u001b[39mmap\u001b[39m\u001b[39m.\u001b[39madd_layer(marker)\n\u001b[1;32m      <a href='vscode-notebook-cell:/home/trillo/Documentos/Andrea/MachineLearning/realestate-datacleanup-exercise/realestate-datacleanup-exercise/project.ipynb#X43sZmlsZQ%3D%3D?line=7'>8</a>\u001b[0m \u001b[39mmap\u001b[39m\u001b[39m.\u001b[39mlayout\u001b[39m.\u001b[39mheight\u001b[39m=\u001b[39m\u001b[39m\"\u001b[39m\u001b[39m600px\u001b[39m\u001b[39m\"\u001b[39m\n",
      "\u001b[0;31mNameError\u001b[0m: name 'Marker' is not defined"
     ]
    }
   ],
   "source": [
    "## HERE: plot the coordinates of the estates\n",
    "\n",
    "## PUT HERE YOUR CODE:\n",
    "for name, lon, lat in df[[\"level5\", \"longitude\", \"latitude\"]].values:\n",
    "    marker = Marker(location=(lat, lon), draggable=False, title=name, alt=name)\n",
    "    map.add_layer(marker)\n",
    "\n",
    "map.layout.height=\"600px\"\n",
    "\n",
    "map"
   ]
  },
  {
   "cell_type": "markdown",
   "id": "b22874b7",
   "metadata": {},
   "source": [
    "#### What can you say about the price per square meter between the towns of Getafe and Alcorcón?"
   ]
  },
  {
   "cell_type": "code",
   "execution_count": 29,
   "id": "e0ef506b",
   "metadata": {},
   "outputs": [
    {
     "name": "stdout",
     "output_type": "stream",
     "text": [
      "df columns: Index(['Unnamed: 0', 'id_realEstates', 'isNew', 'realEstate_name',\n",
      "       'phone_realEstate', 'url_inmueble', 'rooms', 'bathrooms', 'surface',\n",
      "       'price', 'date', 'description', 'address', 'country', 'level1',\n",
      "       'level2', 'level3', 'level4', 'level5', 'level6', 'level7', 'level8',\n",
      "       'upperLevel', 'countryId', 'level1Id', 'level2Id', 'level3Id',\n",
      "       'level4Id', 'level5Id', 'level6Id', 'level7Id', 'level8Id', 'accuracy',\n",
      "       'latitude', 'longitude', 'zipCode', 'customZone', 'price_st'],\n",
      "      dtype='object')\n"
     ]
    }
   ],
   "source": [
    "print(\"df columns:\", df.columns)\n",
    "\n",
    "df[\"price_m2\"] = df[\"price\"] / df[\"surface\"] "
   ]
  },
  {
   "cell_type": "code",
   "execution_count": 31,
   "id": "21ca4473",
   "metadata": {},
   "outputs": [
    {
     "data": {
      "text/plain": [
       "count     173.000000\n",
       "mean     2239.302480\n",
       "std       539.951527\n",
       "min       604.761905\n",
       "25%      1904.081633\n",
       "50%      2207.792208\n",
       "75%      2472.727273\n",
       "max      3698.159509\n",
       "Name: price_m2, dtype: float64"
      ]
     },
     "execution_count": 31,
     "metadata": {},
     "output_type": "execute_result"
    }
   ],
   "source": [
    "# me quedo con las observaciones que tienen precio >0 \n",
    "df.loc[(df[\"level5\"]==\"Alcorcón\") & (df[\"price\"]>0), \"price_m2\"].describe()"
   ]
  },
  {
   "cell_type": "code",
   "execution_count": 32,
   "id": "99e6c92e",
   "metadata": {},
   "outputs": [
    {
     "name": "stdout",
     "output_type": "stream",
     "text": [
      "La media y mediana, medidad de posición central, son menores en Alcorcón que en Getafe. El rango de la variable precio por m2 es mayor en Alcorcón que en Getafe, dado que el precio mínimo de Alcorcón es menor al de Getafe y el precio máximo es mayor al de Getafe. Por su parte, el desvío estándar de la variable es mayor en Getafe que en Alcorcón. También el rango intercuartílico es mayor en Getafe que en Alcorcón, lo que apunta a una mayor dispersión de los datos.\n"
     ]
    }
   ],
   "source": [
    "print(\"La media y mediana, medidad de posición central, son menores en Alcorcón que en Getafe. El rango de la variable precio por m2 es mayor en Alcorcón que en Getafe, dado que el precio mínimo de Alcorcón es menor al de Getafe y el precio máximo es mayor al de Getafe. Por su parte, el desvío estándar de la variable es mayor en Getafe que en Alcorcón. También el rango intercuartílico es mayor en Getafe que en Alcorcón, lo que apunta a una mayor dispersión de los datos.\")\n"
   ]
  },
  {
   "cell_type": "markdown",
   "id": "a4376b3f",
   "metadata": {},
   "source": [
    "#### Reload the data, is the average of \"Valdemorillo\" and \"Galapagar\" prices the same?"
   ]
  },
  {
   "cell_type": "code",
   "execution_count": 34,
   "id": "37dbaf65",
   "metadata": {},
   "outputs": [
    {
     "name": "stdout",
     "output_type": "stream",
     "text": [
      "Precio promedio de Valdemorillo: 363860.29\n",
      "Precio promedio de Galapagar: 360063.2\n",
      "Diferencial porcentual entre los precios: 1.05 %\n",
      "La media de los precios de las dos poblaciones es muy similar, la media de Valdemorrillo es 1.05 % superior.\n"
     ]
    }
   ],
   "source": [
    "vald = df.loc[df[\"level5\"]==\"Valdemorillo\",\"price\"].mean()\n",
    "galap = df.loc[df[\"level5\"]==\"Galapagar\",\"price\"].mean()\n",
    "\n",
    "print(\"Precio promedio de Valdemorillo:\", round(vald,2))\n",
    "print(\"Precio promedio de Galapagar:\", round(galap,2))\n",
    "print(\"Diferencial porcentual entre los precios:\", round(((vald/galap)-1)*100,2), \"%\")\n",
    "\n",
    "# Son muy similares, el de Valdemorrillo levemente inferior\n",
    "\n",
    "print(\"La media de los precios de las dos poblaciones es muy similar, la media de Valdemorrillo es\",round(((vald/galap)-1)*100,2),\"% superior.\")"
   ]
  },
  {
   "cell_type": "markdown",
   "id": "b6af45ec",
   "metadata": {},
   "source": [
    "#### What happens if we do the same analysis for price/m2 (★★☆) "
   ]
  },
  {
   "cell_type": "code",
   "execution_count": 36,
   "id": "8231d73e",
   "metadata": {},
   "outputs": [
    {
     "name": "stdout",
     "output_type": "stream",
     "text": [
      "Precio por m2 promedio de Valdemorillo: 1317.95\n",
      "Precio por m2 promedio de Galapagar: 1606.32\n",
      "Diferencial porcentual entre los precios: -17.95 %\n",
      "La diferencia entre las dos zonas es superior si se considera el precio/m2. El precio por m2 promedio en Valdemorrillo es -17.95 % inferior.\n"
     ]
    }
   ],
   "source": [
    "df[\"price_m2\"] = df[\"price\"] / df[\"surface\"]\n",
    "\n",
    "vald = df.loc[df[\"level5\"]==\"Valdemorillo\",\"price_m2\"].mean()\n",
    "galap = df.loc[df[\"level5\"]==\"Galapagar\",\"price_m2\"].mean()\n",
    "\n",
    "print(\"Precio por m2 promedio de Valdemorillo:\", round(vald,2))\n",
    "print(\"Precio por m2 promedio de Galapagar:\", round(galap,2))\n",
    "\n",
    "print(\"Diferencial porcentual entre los precios:\", round(((vald/galap)-1)*100,2), \"%\")\n",
    "\n",
    "print(\"La diferencia entre las dos zonas es superior si se considera el precio/m2. El precio por m2 promedio en Valdemorrillo es\",round(((vald/galap)-1)*100,2),\"% inferior.\")"
   ]
  },
  {
   "cell_type": "markdown",
   "id": "2d40e202",
   "metadata": {},
   "source": [
    "#### Could you say there is a relation between surface and price? (★★☆) \n",
    "Hint: make a scatter plot."
   ]
  },
  {
   "cell_type": "code",
   "execution_count": 38,
   "id": "405462e1",
   "metadata": {},
   "outputs": [
    {
     "data": {
      "image/png": "[encoded data removed]",
      "text/plain": [
       "<Figure size 432x288 with 1 Axes>"
      ]
     },
     "metadata": {
      "needs_background": "light"
     },
     "output_type": "display_data"
    },
    {
     "name": "stdout",
     "output_type": "stream",
     "text": [
      "Hay casas con superficie muy elevada, mayor a 50000 m2. Esto distorsiona el gráfico y no permite sacar conclusiones relevantes sobre la relación entre la superficie y el precio.\n"
     ]
    }
   ],
   "source": [
    "fig, ax = plt.subplots()\n",
    "ax.scatter(df[\"surface\"], df[\"price\"])\n",
    "plt.show()\n",
    "\n",
    "print(\"Hay casas con superficie muy elevada, mayor a 50000 m2. Esto distorsiona el gráfico y no permite sacar conclusiones relevantes sobre la relación entre la superficie y el precio.\")\n"
   ]
  },
  {
   "cell_type": "code",
   "execution_count": 41,
   "id": "fe776396",
   "metadata": {},
   "outputs": [
    {
     "data": {
      "image/png": "[encoded data removed]",
      "text/plain": [
       "<Figure size 432x288 with 1 Axes>"
      ]
     },
     "metadata": {
      "needs_background": "light"
     },
     "output_type": "display_data"
    },
    {
     "name": "stdout",
     "output_type": "stream",
     "text": [
      "Al excluir las observaciones con superficie mayor a 3000 m2, se puede observar que existe una relación positiva entre el precio y la superficie.\n"
     ]
    }
   ],
   "source": [
    "# Filtro las observaciones y grafico aquellas que tienen superficie mayor a 3000 m2 de modo que se pueda visualizar mejor la relación entre el precio y la superficie\n",
    "fig, ax = plt.subplots()\n",
    "ax.scatter(df.loc[df[\"surface\"]<3000, \"surface\"], df.loc[df[\"surface\"]<3000, \"price\"])\n",
    "plt.show()\n",
    "\n",
    "print(\"Al excluir las observaciones con superficie mayor a 3000 m2, se puede observar que existe una relación positiva entre el precio y la superficie.\")\n"
   ]
  },
  {
   "cell_type": "markdown",
   "id": "3275db77",
   "metadata": {},
   "source": [
    "#### Make the same plot for 4 different populations (level5) and rearrange them on the same graph? (★★☆) \n",
    "Hint: make a scatter plot of each population using subplots."
   ]
  },
  {
   "cell_type": "code",
   "execution_count": 42,
   "id": "e08292ff",
   "metadata": {},
   "outputs": [
    {
     "data": {
      "image/png": "[encoded data removed]",
      "text/plain": [
       "<Figure size 432x288 with 4 Axes>"
      ]
     },
     "metadata": {
      "needs_background": "light"
     },
     "output_type": "display_data"
    }
   ],
   "source": [
    "# En este caso también grafico únicamente aquellas observaciones con superficie menor a 3000 m2.\n",
    "\n",
    "fig, ax = plt.subplots(2, 2, sharey = True)\n",
    "ax[0, 0].scatter(df.loc[(df[\"level5\"]==\"Getafe\") & (df[\"surface\"]<3000),\"surface\"], df.loc[(df[\"level5\"]==\"Getafe\") & (df[\"surface\"]<3000),\"price\"])\n",
    "ax[0, 1].scatter(df.loc[(df[\"level5\"]==\"Alcorcón\") & (df[\"surface\"]<3000),\"surface\"], df.loc[(df[\"level5\"]==\"Alcorcón\") & (df[\"surface\"]<3000),\"price\"])\n",
    "ax[1, 0].scatter(df.loc[(df[\"level5\"]==\"Fuenlabrada\") & (df[\"surface\"]<3000),\"surface\"], df.loc[(df[\"level5\"]==\"Fuenlabrada\") & (df[\"surface\"]<3000),\"price\"])\n",
    "ax[1, 1].scatter(df.loc[(df[\"level5\"]==\"Leganés\") & (df[\"surface\"]<3000),\"surface\"], df.loc[(df[\"level5\"]==\"Leganés\") & (df[\"surface\"]<3000),\"price\"])\n",
    "ax[0, 0].set_title('Getafe')\n",
    "ax[0, 1].set_title('Alcorcón')\n",
    "ax[1, 0].set_title('Fuenlabrada')\n",
    "ax[1, 1].set_title('Leganés')\n",
    "plt.tight_layout()\n",
    "plt.show()"
   ]
  },
  {
   "cell_type": "markdown",
   "id": "522c6bd9",
   "metadata": {},
   "source": [
    "#### How many  real estate agencies the dataset contains? (★★☆) "
   ]
  },
  {
   "cell_type": "code",
   "execution_count": 43,
   "id": "014ec6c8",
   "metadata": {},
   "outputs": [
    {
     "name": "stdout",
     "output_type": "stream",
     "text": [
      "engel volkers madrid    470\n",
      "infocasa consulting     300\n",
      "outletdeviviendas       260\n",
      "housell                 250\n",
      "solvia inmobiliaria     207\n",
      "                       ... \n",
      "javier garcia             1\n",
      "ir inmobiliaria           1\n",
      "jesus                     1\n",
      "julio                     1\n",
      "nieves                    1\n",
      "Name: realEstate_name, Length: 1821, dtype: int64\n",
      "None\n",
      "El dataset contiene 1821 real estate agencies.\n"
     ]
    }
   ],
   "source": [
    "print(print(df[\"realEstate_name\"].value_counts()))\n",
    "\n",
    "print(\"El dataset contiene\", len(df[\"realEstate_name\"].value_counts()), \"real estate agencies.\")"
   ]
  },
  {
   "cell_type": "markdown",
   "id": "899a101e",
   "metadata": {},
   "source": [
    "#### What is the population (level 5) that contains the most houses? (★★☆) "
   ]
  },
  {
   "cell_type": "code",
   "execution_count": 44,
   "id": "9e8b34ba",
   "metadata": {},
   "outputs": [
    {
     "name": "stdout",
     "output_type": "stream",
     "text": [
      " Madrid Capital         6643\n",
      "Alcalá de Henares        525\n",
      "Las Rozas de Madrid      383\n",
      "Móstoles                 325\n",
      "Getafe                   290\n",
      "                        ... \n",
      "Brea de Tajo               1\n",
      "El Atazar                  1\n",
      "Piñuécar-gandullas         1\n",
      "Braojos                    1\n",
      "Montejo de la Sierra       1\n",
      "Name: level5, Length: 168, dtype: int64\n",
      "Madrid Capital es la zona que contiene mayor cantidad de casas.\n"
     ]
    }
   ],
   "source": [
    "print(df[\"level5\"].value_counts())\n",
    "\n",
    "print(\"Madrid Capital es la zona que contiene mayor cantidad de casas.\")"
   ]
  }
 ],
 "metadata": {
  "kernelspec": {
   "display_name": "Python 3.10.6 64-bit",
   "language": "python",
   "name": "python3"
  },
  "language_info": {
   "codemirror_mode": {
    "name": "ipython",
    "version": 3
   },
   "file_extension": ".py",
   "mimetype": "text/x-python",
   "name": "python",
   "nbconvert_exporter": "python",
   "pygments_lexer": "ipython3",
   "version": "3.10.6"
  },
  "vscode": {
   "interpreter": {
    "hash": "e7370f93d1d0cde622a1f8e1c04877d8463912d04d973331ad4851f04de6915a"
   }
  }
 },
 "nbformat": 4,
 "nbformat_minor": 5
}
